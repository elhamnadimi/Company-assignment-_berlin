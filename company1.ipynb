{
  "nbformat": 4,
  "nbformat_minor": 0,
  "metadata": {
    "colab": {
      "name": "company1.ipynb",
      "provenance": [],
      "collapsed_sections": [],
      "authorship_tag": "ABX9TyNyYe8EL6DocZhnLf2DjRPe",
      "include_colab_link": true
    },
    "kernelspec": {
      "name": "python3",
      "display_name": "Python 3"
    },
    "language_info": {
      "name": "python"
    }
  },
  "cells": [
    {
      "cell_type": "markdown",
      "metadata": {
        "id": "view-in-github",
        "colab_type": "text"
      },
      "source": [
        "<a href=\"https://colab.research.google.com/github/elhamnadimi/Company-assignment-_berlin/blob/main/company1.ipynb\" target=\"_parent\"><img src=\"https://colab.research.google.com/assets/colab-badge.svg\" alt=\"Open In Colab\"/></a>"
      ]
    },
    {
      "cell_type": "code",
      "metadata": {
        "id": "Vmi47Y4zwLVe",
        "colab": {
          "base_uri": "https://localhost:8080/",
          "height": 139
        },
        "outputId": "3c9bdb0b-b347-478b-a029-b3cfcb6d2fe3"
      },
      "source": [
        "import numpy as np\n",
        "import pandas as pd \n",
        "data_1 = pd.read_csv(\"part_1.csv\") \n",
        "data_2 = pd.read_csv(\"part_2.csv\") \n",
        "data_3 = pd.read_csv(\"part_3.csv\") \n",
        "data_4 = pd.read_csv(\"part_4.csv\") \n",
        "data_5 = pd.read_csv(\"part_5.csv\") \n",
        "\n"
      ],
      "execution_count": 2,
      "outputs": [
        {
          "output_type": "execute_result",
          "data": {
            "application/vnd.google.colaboratory.intrinsic+json": {
              "type": "string"
            },
            "text/plain": [
              "'data_6 = pd.read_csv(\"part_6.csv\") \\ndata_7 = pd.read_csv(\"part_7.csv\") \\ndata_8 = pd.read_csv(\"part_8.csv\") \\ndata_9 = pd.read_csv(\"part_9.csv\") \\ndata_10 = pd.read_csv(\"part_10.csv\") \\ndata_11 = pd.read_csv(\"part_11.csv\") \\ndata_12 = pd.read_csv(\"part_12.csv\") \\ndata_13 = pd.read_csv(\"part_13.csv\") \\ndata_14 = pd.read_csv(\"part_14.csv\") \\ndata_15 = pd.read_csv(\"part_15.csv\") \\ndata_16 = pd.read_csv(\"part_16.csv\") \\ndata_17 = pd.read_csv(\"part_17.csv\") \\ndata_18 = pd.read_csv(\"part_18.csv\") \\ndata_19 = pd.read_csv(\"part_19.csv\") \\ndata_20 = pd.read_csv(\"part_20.csv\")'"
            ]
          },
          "metadata": {
            "tags": []
          },
          "execution_count": 2
        }
      ]
    },
    {
      "cell_type": "code",
      "metadata": {
        "id": "iYyQrMDs2Oqq"
      },
      "source": [
        "df_merged=pd.concat([data_1,data_2,data_3,data_4,data_5],ignore_index=True)\n",
        "df_merged.to_csv('df_merged.csv') \n"
      ],
      "execution_count": 3,
      "outputs": []
    },
    {
      "cell_type": "code",
      "metadata": {
        "colab": {
          "base_uri": "https://localhost:8080/",
          "height": 419
        },
        "id": "21Bi-24f2xjO",
        "outputId": "704c93d4-d238-4c30-b57f-fbadc6aa2e08"
      },
      "source": [
        "#df_merged = pd.read_csv(\"df_merged.csv\") \n",
        "df_merged"
      ],
      "execution_count": 4,
      "outputs": [
        {
          "output_type": "execute_result",
          "data": {
            "text/html": [
              "<div>\n",
              "<style scoped>\n",
              "    .dataframe tbody tr th:only-of-type {\n",
              "        vertical-align: middle;\n",
              "    }\n",
              "\n",
              "    .dataframe tbody tr th {\n",
              "        vertical-align: top;\n",
              "    }\n",
              "\n",
              "    .dataframe thead th {\n",
              "        text-align: right;\n",
              "    }\n",
              "</style>\n",
              "<table border=\"1\" class=\"dataframe\">\n",
              "  <thead>\n",
              "    <tr style=\"text-align: right;\">\n",
              "      <th></th>\n",
              "      <th>device_id</th>\n",
              "      <th>lat</th>\n",
              "      <th>lon</th>\n",
              "      <th>utc_timestamp</th>\n",
              "    </tr>\n",
              "  </thead>\n",
              "  <tbody>\n",
              "    <tr>\n",
              "      <th>0</th>\n",
              "      <td>1</td>\n",
              "      <td>52.676490</td>\n",
              "      <td>13.315430</td>\n",
              "      <td>1609459727000</td>\n",
              "    </tr>\n",
              "    <tr>\n",
              "      <th>1</th>\n",
              "      <td>1</td>\n",
              "      <td>52.676490</td>\n",
              "      <td>13.315420</td>\n",
              "      <td>1609460036000</td>\n",
              "    </tr>\n",
              "    <tr>\n",
              "      <th>2</th>\n",
              "      <td>2</td>\n",
              "      <td>52.578370</td>\n",
              "      <td>13.582170</td>\n",
              "      <td>1609459241000</td>\n",
              "    </tr>\n",
              "    <tr>\n",
              "      <th>3</th>\n",
              "      <td>3</td>\n",
              "      <td>52.583730</td>\n",
              "      <td>13.333090</td>\n",
              "      <td>1609459502000</td>\n",
              "    </tr>\n",
              "    <tr>\n",
              "      <th>4</th>\n",
              "      <td>1</td>\n",
              "      <td>52.676500</td>\n",
              "      <td>13.315480</td>\n",
              "      <td>1609460387000</td>\n",
              "    </tr>\n",
              "    <tr>\n",
              "      <th>...</th>\n",
              "      <td>...</td>\n",
              "      <td>...</td>\n",
              "      <td>...</td>\n",
              "      <td>...</td>\n",
              "    </tr>\n",
              "    <tr>\n",
              "      <th>4999995</th>\n",
              "      <td>10804</td>\n",
              "      <td>52.486620</td>\n",
              "      <td>13.313936</td>\n",
              "      <td>1609658914000</td>\n",
              "    </tr>\n",
              "    <tr>\n",
              "      <th>4999996</th>\n",
              "      <td>10821</td>\n",
              "      <td>52.586970</td>\n",
              "      <td>13.295290</td>\n",
              "      <td>1609717572000</td>\n",
              "    </tr>\n",
              "    <tr>\n",
              "      <th>4999997</th>\n",
              "      <td>10803</td>\n",
              "      <td>52.480453</td>\n",
              "      <td>13.427771</td>\n",
              "      <td>1609634161000</td>\n",
              "    </tr>\n",
              "    <tr>\n",
              "      <th>4999998</th>\n",
              "      <td>10817</td>\n",
              "      <td>52.568990</td>\n",
              "      <td>13.578130</td>\n",
              "      <td>1609681613000</td>\n",
              "    </tr>\n",
              "    <tr>\n",
              "      <th>4999999</th>\n",
              "      <td>10817</td>\n",
              "      <td>52.568990</td>\n",
              "      <td>13.578130</td>\n",
              "      <td>1609681193000</td>\n",
              "    </tr>\n",
              "  </tbody>\n",
              "</table>\n",
              "<p>5000000 rows × 4 columns</p>\n",
              "</div>"
            ],
            "text/plain": [
              "         device_id        lat        lon  utc_timestamp\n",
              "0                1  52.676490  13.315430  1609459727000\n",
              "1                1  52.676490  13.315420  1609460036000\n",
              "2                2  52.578370  13.582170  1609459241000\n",
              "3                3  52.583730  13.333090  1609459502000\n",
              "4                1  52.676500  13.315480  1609460387000\n",
              "...            ...        ...        ...            ...\n",
              "4999995      10804  52.486620  13.313936  1609658914000\n",
              "4999996      10821  52.586970  13.295290  1609717572000\n",
              "4999997      10803  52.480453  13.427771  1609634161000\n",
              "4999998      10817  52.568990  13.578130  1609681613000\n",
              "4999999      10817  52.568990  13.578130  1609681193000\n",
              "\n",
              "[5000000 rows x 4 columns]"
            ]
          },
          "metadata": {
            "tags": []
          },
          "execution_count": 4
        }
      ]
    },
    {
      "cell_type": "code",
      "metadata": {
        "colab": {
          "base_uri": "https://localhost:8080/"
        },
        "id": "3ZsYGiTS3gZl",
        "outputId": "d2b64343-47df-41a7-99b8-a9ebf1bb18c6"
      },
      "source": [
        "df_merged.info"
      ],
      "execution_count": 5,
      "outputs": [
        {
          "output_type": "execute_result",
          "data": {
            "text/plain": [
              "<bound method DataFrame.info of          device_id        lat        lon  utc_timestamp\n",
              "0                1  52.676490  13.315430  1609459727000\n",
              "1                1  52.676490  13.315420  1609460036000\n",
              "2                2  52.578370  13.582170  1609459241000\n",
              "3                3  52.583730  13.333090  1609459502000\n",
              "4                1  52.676500  13.315480  1609460387000\n",
              "...            ...        ...        ...            ...\n",
              "4999995      10804  52.486620  13.313936  1609658914000\n",
              "4999996      10821  52.586970  13.295290  1609717572000\n",
              "4999997      10803  52.480453  13.427771  1609634161000\n",
              "4999998      10817  52.568990  13.578130  1609681613000\n",
              "4999999      10817  52.568990  13.578130  1609681193000\n",
              "\n",
              "[5000000 rows x 4 columns]>"
            ]
          },
          "metadata": {
            "tags": []
          },
          "execution_count": 5
        }
      ]
    },
    {
      "cell_type": "code",
      "metadata": {
        "colab": {
          "base_uri": "https://localhost:8080/",
          "height": 437
        },
        "id": "0yM4MhJv32dE",
        "outputId": "ec54d1f2-f39b-4e31-edeb-376442d146a5"
      },
      "source": [
        "pd.set_option('display.max_colwidth', -1)\n",
        "stores = pd.read_csv(\"stores.csv\")\n",
        "stores.head(1)"
      ],
      "execution_count": 8,
      "outputs": [
        {
          "output_type": "stream",
          "text": [
            "/usr/local/lib/python3.7/dist-packages/ipykernel_launcher.py:1: FutureWarning: Passing a negative integer is deprecated in version 1.0 and will not be supported in future version. Instead, use None to not limit the column width.\n",
            "  \"\"\"Entry point for launching an IPython kernel.\n"
          ],
          "name": "stderr"
        },
        {
          "output_type": "execute_result",
          "data": {
            "text/html": [
              "<div>\n",
              "<style scoped>\n",
              "    .dataframe tbody tr th:only-of-type {\n",
              "        vertical-align: middle;\n",
              "    }\n",
              "\n",
              "    .dataframe tbody tr th {\n",
              "        vertical-align: top;\n",
              "    }\n",
              "\n",
              "    .dataframe thead th {\n",
              "        text-align: right;\n",
              "    }\n",
              "</style>\n",
              "<table border=\"1\" class=\"dataframe\">\n",
              "  <thead>\n",
              "    <tr style=\"text-align: right;\">\n",
              "      <th></th>\n",
              "      <th>store_id</th>\n",
              "      <th>store_name</th>\n",
              "      <th>wkt</th>\n",
              "    </tr>\n",
              "  </thead>\n",
              "  <tbody>\n",
              "    <tr>\n",
              "      <th>0</th>\n",
              "      <td>place_1</td>\n",
              "      <td>McDonald's</td>\n",
              "      <td>POLYGON ((13.4611920000000005 52.4709870000000009, 13.4610299999999992 52.4706600000000023, 13.4611959999999993 52.4706290000000024, 13.4612090000000002 52.4706550000000007, 13.4613589999999999 52.4709560000000010, 13.4611920000000005 52.4709870000000009))</td>\n",
              "    </tr>\n",
              "    <tr>\n",
              "      <th>1</th>\n",
              "      <td>place_2</td>\n",
              "      <td>McDonald's</td>\n",
              "      <td>POLYGON ((13.4683480000000007 52.5471599999999981, 13.4684080000000002 52.5471560000000011, 13.4684589999999993 52.5471360000000018, 13.4684910000000002 52.5471050000000020, 13.4684960000000000 52.5470729999999975, 13.4685500000000005 52.5470740000000021, 13.4685430000000004 52.5470449999999971, 13.4685269999999999 52.5470180000000013, 13.4684939999999997 52.5469920000000030, 13.4684449999999991 52.5469719999999967, 13.4684080000000002 52.5469629999999981, 13.4683630000000001 52.5469599999999986, 13.4683650000000004 52.5469960000000000, 13.4683159999999997 52.5469989999999996, 13.4682650000000006 52.5470189999999988, 13.4682329999999997 52.5470510000000033, 13.4682270000000006 52.5470880000000022, 13.4682469999999999 52.5471220000000017, 13.4682899999999997 52.5471480000000000, 13.4683480000000007 52.5471599999999981))</td>\n",
              "    </tr>\n",
              "  </tbody>\n",
              "</table>\n",
              "</div>"
            ],
            "text/plain": [
              "  store_id  ...                                                                                                                                                                                                                                                                                                                                                                                                                                                                                                                                                                                                                                                                                                                                                                                                                                                             wkt\n",
              "0  place_1  ...  POLYGON ((13.4611920000000005 52.4709870000000009, 13.4610299999999992 52.4706600000000023, 13.4611959999999993 52.4706290000000024, 13.4612090000000002 52.4706550000000007, 13.4613589999999999 52.4709560000000010, 13.4611920000000005 52.4709870000000009))                                                                                                                                                                                                                                                                                                                                                                                                                                                                                                                                                                                              \n",
              "1  place_2  ...  POLYGON ((13.4683480000000007 52.5471599999999981, 13.4684080000000002 52.5471560000000011, 13.4684589999999993 52.5471360000000018, 13.4684910000000002 52.5471050000000020, 13.4684960000000000 52.5470729999999975, 13.4685500000000005 52.5470740000000021, 13.4685430000000004 52.5470449999999971, 13.4685269999999999 52.5470180000000013, 13.4684939999999997 52.5469920000000030, 13.4684449999999991 52.5469719999999967, 13.4684080000000002 52.5469629999999981, 13.4683630000000001 52.5469599999999986, 13.4683650000000004 52.5469960000000000, 13.4683159999999997 52.5469989999999996, 13.4682650000000006 52.5470189999999988, 13.4682329999999997 52.5470510000000033, 13.4682270000000006 52.5470880000000022, 13.4682469999999999 52.5471220000000017, 13.4682899999999997 52.5471480000000000, 13.4683480000000007 52.5471599999999981))\n",
              "\n",
              "[2 rows x 3 columns]"
            ]
          },
          "metadata": {
            "tags": []
          },
          "execution_count": 8
        }
      ]
    },
    {
      "cell_type": "code",
      "metadata": {
        "id": "BHHt8e9ygcZv"
      },
      "source": [
        "from itertools import takewhile\n"
      ],
      "execution_count": 9,
      "outputs": []
    },
    {
      "cell_type": "code",
      "metadata": {
        "id": "CcwvEEZzgBuA"
      },
      "source": [
        "#a. Resolve the user visits per store, i.e. filter the GPS signals through polygons.\n",
        "\n",
        "def get_long_lat(s):\n",
        "    it = ter(s[10:])  # Get the iterable of the string, not including the first 10 characters.\n",
        "    long = ''.join(takewhile(lambda c: c.isnumeric() or c == '.', it))  # Take from the iterable as lomg as it's a part of a number. This we also take the next character after the number but won't include it in the output.\n",
        "    lat = ''.join(takewhile(lambda c: c.isnumeric() or c == '.', it))  # Do it again.\n",
        "    return long, lat\n"
      ],
      "execution_count": 10,
      "outputs": []
    },
    {
      "cell_type": "code",
      "metadata": {
        "colab": {
          "base_uri": "https://localhost:8080/"
        },
        "id": "wwDlHi9BgF5c",
        "outputId": "fd57c323-b6df-4bb3-9e77-bc565d078396"
      },
      "source": [
        "get_long_lat('POLYGON ((13.4611920000000005 52.4709870000000009, 13.4610299999999992 52.4706600000000023, 13.4611959999999993 52.4706290000000024, 13.4612090000000002 52.4706550000000007, 13.4613589999999999 52.4709560000000010, 13.4611920000000005 52.4709870000000009))')"
      ],
      "execution_count": 53,
      "outputs": [
        {
          "output_type": "execute_result",
          "data": {
            "text/plain": [
              "('13.4611920000000005', '52.4709870000000009')"
            ]
          },
          "metadata": {
            "tags": []
          },
          "execution_count": 53
        }
      ]
    },
    {
      "cell_type": "code",
      "metadata": {
        "colab": {
          "base_uri": "https://localhost:8080/",
          "height": 267
        },
        "id": "lHvPuAebgzM9",
        "outputId": "a4f91654-5cc1-4ba2-9bf4-4e399bb0f508"
      },
      "source": [
        "stores[['lon', 'lat']] = pd.DataFrame(stores['wkt'].apply(get_long_lat).tolist())\n",
        "stores.head(1)"
      ],
      "execution_count": 56,
      "outputs": [
        {
          "output_type": "execute_result",
          "data": {
            "text/html": [
              "<div>\n",
              "<style scoped>\n",
              "    .dataframe tbody tr th:only-of-type {\n",
              "        vertical-align: middle;\n",
              "    }\n",
              "\n",
              "    .dataframe tbody tr th {\n",
              "        vertical-align: top;\n",
              "    }\n",
              "\n",
              "    .dataframe thead th {\n",
              "        text-align: right;\n",
              "    }\n",
              "</style>\n",
              "<table border=\"1\" class=\"dataframe\">\n",
              "  <thead>\n",
              "    <tr style=\"text-align: right;\">\n",
              "      <th></th>\n",
              "      <th>store_id</th>\n",
              "      <th>store_name</th>\n",
              "      <th>wkt</th>\n",
              "      <th>lon</th>\n",
              "      <th>lat</th>\n",
              "    </tr>\n",
              "  </thead>\n",
              "  <tbody>\n",
              "    <tr>\n",
              "      <th>0</th>\n",
              "      <td>place_1</td>\n",
              "      <td>McDonald's</td>\n",
              "      <td>POLYGON ((13.4611920000000005 52.4709870000000009, 13.4610299999999992 52.4706600000000023, 13.4611959999999993 52.4706290000000024, 13.4612090000000002 52.4706550000000007, 13.4613589999999999 52.4709560000000010, 13.4611920000000005 52.4709870000000009))</td>\n",
              "      <td>13.4611920000000005</td>\n",
              "      <td>52.4709870000000009</td>\n",
              "    </tr>\n",
              "  </tbody>\n",
              "</table>\n",
              "</div>"
            ],
            "text/plain": [
              "  store_id  store_name  ...                  lon                  lat\n",
              "0  place_1  McDonald's  ...  13.4611920000000005  52.4709870000000009\n",
              "\n",
              "[1 rows x 5 columns]"
            ]
          },
          "metadata": {
            "tags": []
          },
          "execution_count": 56
        }
      ]
    },
    {
      "cell_type": "code",
      "metadata": {
        "id": "suso-tbs32jx"
      },
      "source": [
        "b1 = pd.read_csv(\"addidas\")\n",
        "b2 = pd.read_csv(\"apple\")\n",
        "b3 = pd.read_csv(\"bmw\")\n",
        "b4 = pd.read_csv(\"female\")\n",
        "b5 = pd.read_csv(\"male\")\n",
        "b6 = pd.read_csv(\"employed\")\n",
        "b7 = pd.read_csv(\"h_&_m\")\n",
        "b8 = pd.read_csv(\"honda\")\n",
        "b9 = pd.read_csv(\"job_seeking\")\n",
        "b10 = pd.read_csv(\"low_income\")\n",
        "b11 = pd.read_csv(\"mercedes-benz\")\n",
        "b12 = pd.read_csv(\"middle_income\")\n",
        "b13 = pd.read_csv(\"retired\")\n",
        "b14 = pd.read_csv(\"student\")\n",
        "b15 = pd.read_csv(\"tommy_helfinger\")\n"
      ],
      "execution_count": 49,
      "outputs": []
    },
    {
      "cell_type": "code",
      "metadata": {
        "id": "iUmZ7GEV32nT"
      },
      "source": [
        "b = pd.concat([b1, b2,b3,b4,b5,b6,b7,b8,b9,b10,b11,b12,b13,b14,b15], axis=1)\n",
        "b.columns = ['addidas', 'apple','bmw',\n",
        "             'female','male','employed','h_&_m','honda','job_seeking','low_income',\n",
        "             'mercedes-benz','middle_income','retired','student','tommy_helfinger']\n",
        "#b.fillna(0.0)\n",
        "b=b.replace(np.nan,0)"
      ],
      "execution_count": 50,
      "outputs": []
    },
    {
      "cell_type": "code",
      "metadata": {
        "colab": {
          "base_uri": "https://localhost:8080/",
          "height": 210
        },
        "id": "r0ti5mTDA-Hy",
        "outputId": "07574547-df2e-4def-d5db-d34f81cf38e6"
      },
      "source": [
        "b.tail(4)"
      ],
      "execution_count": 51,
      "outputs": [
        {
          "output_type": "execute_result",
          "data": {
            "text/html": [
              "<div>\n",
              "<style scoped>\n",
              "    .dataframe tbody tr th:only-of-type {\n",
              "        vertical-align: middle;\n",
              "    }\n",
              "\n",
              "    .dataframe tbody tr th {\n",
              "        vertical-align: top;\n",
              "    }\n",
              "\n",
              "    .dataframe thead th {\n",
              "        text-align: right;\n",
              "    }\n",
              "</style>\n",
              "<table border=\"1\" class=\"dataframe\">\n",
              "  <thead>\n",
              "    <tr style=\"text-align: right;\">\n",
              "      <th></th>\n",
              "      <th>addidas</th>\n",
              "      <th>apple</th>\n",
              "      <th>bmw</th>\n",
              "      <th>female</th>\n",
              "      <th>male</th>\n",
              "      <th>employed</th>\n",
              "      <th>h_&amp;_m</th>\n",
              "      <th>honda</th>\n",
              "      <th>job_seeking</th>\n",
              "      <th>low_income</th>\n",
              "      <th>mercedes-benz</th>\n",
              "      <th>middle_income</th>\n",
              "      <th>retired</th>\n",
              "      <th>student</th>\n",
              "      <th>tommy_helfinger</th>\n",
              "    </tr>\n",
              "  </thead>\n",
              "  <tbody>\n",
              "    <tr>\n",
              "      <th>104644</th>\n",
              "      <td>0.0</td>\n",
              "      <td>0.0</td>\n",
              "      <td>0.0</td>\n",
              "      <td>0.0</td>\n",
              "      <td>0.0</td>\n",
              "      <td>0.0</td>\n",
              "      <td>0.0</td>\n",
              "      <td>0.0</td>\n",
              "      <td>0.0</td>\n",
              "      <td>0.0</td>\n",
              "      <td>0.0</td>\n",
              "      <td>174408</td>\n",
              "      <td>0.0</td>\n",
              "      <td>0.0</td>\n",
              "      <td>0.0</td>\n",
              "    </tr>\n",
              "    <tr>\n",
              "      <th>104645</th>\n",
              "      <td>0.0</td>\n",
              "      <td>0.0</td>\n",
              "      <td>0.0</td>\n",
              "      <td>0.0</td>\n",
              "      <td>0.0</td>\n",
              "      <td>0.0</td>\n",
              "      <td>0.0</td>\n",
              "      <td>0.0</td>\n",
              "      <td>0.0</td>\n",
              "      <td>0.0</td>\n",
              "      <td>0.0</td>\n",
              "      <td>174411</td>\n",
              "      <td>0.0</td>\n",
              "      <td>0.0</td>\n",
              "      <td>0.0</td>\n",
              "    </tr>\n",
              "    <tr>\n",
              "      <th>104646</th>\n",
              "      <td>0.0</td>\n",
              "      <td>0.0</td>\n",
              "      <td>0.0</td>\n",
              "      <td>0.0</td>\n",
              "      <td>0.0</td>\n",
              "      <td>0.0</td>\n",
              "      <td>0.0</td>\n",
              "      <td>0.0</td>\n",
              "      <td>0.0</td>\n",
              "      <td>0.0</td>\n",
              "      <td>0.0</td>\n",
              "      <td>174412</td>\n",
              "      <td>0.0</td>\n",
              "      <td>0.0</td>\n",
              "      <td>0.0</td>\n",
              "    </tr>\n",
              "    <tr>\n",
              "      <th>104647</th>\n",
              "      <td>0.0</td>\n",
              "      <td>0.0</td>\n",
              "      <td>0.0</td>\n",
              "      <td>0.0</td>\n",
              "      <td>0.0</td>\n",
              "      <td>0.0</td>\n",
              "      <td>0.0</td>\n",
              "      <td>0.0</td>\n",
              "      <td>0.0</td>\n",
              "      <td>0.0</td>\n",
              "      <td>0.0</td>\n",
              "      <td>174413</td>\n",
              "      <td>0.0</td>\n",
              "      <td>0.0</td>\n",
              "      <td>0.0</td>\n",
              "    </tr>\n",
              "  </tbody>\n",
              "</table>\n",
              "</div>"
            ],
            "text/plain": [
              "        addidas  apple  bmw  ...  retired  student  tommy_helfinger\n",
              "104644  0.0      0.0    0.0  ...  0.0      0.0      0.0            \n",
              "104645  0.0      0.0    0.0  ...  0.0      0.0      0.0            \n",
              "104646  0.0      0.0    0.0  ...  0.0      0.0      0.0            \n",
              "104647  0.0      0.0    0.0  ...  0.0      0.0      0.0            \n",
              "\n",
              "[4 rows x 15 columns]"
            ]
          },
          "metadata": {
            "tags": []
          },
          "execution_count": 51
        }
      ]
    },
    {
      "cell_type": "code",
      "metadata": {
        "colab": {
          "base_uri": "https://localhost:8080/",
          "height": 148
        },
        "id": "RLhgKW4rCrUP",
        "outputId": "f3e65a44-f7ba-4a6f-b918-8e9070469a08"
      },
      "source": [
        "b['row'] = b.index\n",
        "b.head(2)"
      ],
      "execution_count": 52,
      "outputs": [
        {
          "output_type": "execute_result",
          "data": {
            "text/html": [
              "<div>\n",
              "<style scoped>\n",
              "    .dataframe tbody tr th:only-of-type {\n",
              "        vertical-align: middle;\n",
              "    }\n",
              "\n",
              "    .dataframe tbody tr th {\n",
              "        vertical-align: top;\n",
              "    }\n",
              "\n",
              "    .dataframe thead th {\n",
              "        text-align: right;\n",
              "    }\n",
              "</style>\n",
              "<table border=\"1\" class=\"dataframe\">\n",
              "  <thead>\n",
              "    <tr style=\"text-align: right;\">\n",
              "      <th></th>\n",
              "      <th>addidas</th>\n",
              "      <th>apple</th>\n",
              "      <th>bmw</th>\n",
              "      <th>female</th>\n",
              "      <th>male</th>\n",
              "      <th>employed</th>\n",
              "      <th>h_&amp;_m</th>\n",
              "      <th>honda</th>\n",
              "      <th>job_seeking</th>\n",
              "      <th>low_income</th>\n",
              "      <th>mercedes-benz</th>\n",
              "      <th>middle_income</th>\n",
              "      <th>retired</th>\n",
              "      <th>student</th>\n",
              "      <th>tommy_helfinger</th>\n",
              "      <th>row</th>\n",
              "    </tr>\n",
              "  </thead>\n",
              "  <tbody>\n",
              "    <tr>\n",
              "      <th>0</th>\n",
              "      <td>90618.0</td>\n",
              "      <td>58923.0</td>\n",
              "      <td>160780.0</td>\n",
              "      <td>85001.0</td>\n",
              "      <td>1.0</td>\n",
              "      <td>128202.0</td>\n",
              "      <td>125654.0</td>\n",
              "      <td>161033.0</td>\n",
              "      <td>64710.0</td>\n",
              "      <td>5.0</td>\n",
              "      <td>76363.0</td>\n",
              "      <td>2</td>\n",
              "      <td>10686.0</td>\n",
              "      <td>128893.0</td>\n",
              "      <td>125804.0</td>\n",
              "      <td>0</td>\n",
              "    </tr>\n",
              "    <tr>\n",
              "      <th>1</th>\n",
              "      <td>97745.0</td>\n",
              "      <td>141158.0</td>\n",
              "      <td>78690.0</td>\n",
              "      <td>85002.0</td>\n",
              "      <td>2.0</td>\n",
              "      <td>72506.0</td>\n",
              "      <td>31465.0</td>\n",
              "      <td>169431.0</td>\n",
              "      <td>161402.0</td>\n",
              "      <td>10.0</td>\n",
              "      <td>133934.0</td>\n",
              "      <td>3</td>\n",
              "      <td>168131.0</td>\n",
              "      <td>96358.0</td>\n",
              "      <td>54252.0</td>\n",
              "      <td>1</td>\n",
              "    </tr>\n",
              "  </tbody>\n",
              "</table>\n",
              "</div>"
            ],
            "text/plain": [
              "   addidas     apple       bmw  ...   student  tommy_helfinger  row\n",
              "0  90618.0  58923.0   160780.0  ...  128893.0  125804.0         0  \n",
              "1  97745.0  141158.0  78690.0   ...  96358.0   54252.0          1  \n",
              "\n",
              "[2 rows x 16 columns]"
            ]
          },
          "metadata": {
            "tags": []
          },
          "execution_count": 52
        }
      ]
    },
    {
      "cell_type": "code",
      "metadata": {
        "colab": {
          "base_uri": "https://localhost:8080/",
          "height": 241
        },
        "id": "cg2qWKLNCra6",
        "outputId": "8d1d338c-7feb-46db-a638-2dcfced3169d"
      },
      "source": [
        "new_data=pd.merge(df_merged, b, left_on='device_id', right_on='row', how='left').drop('row', axis=1)\n",
        "new_data.head()\n",
        "\n"
      ],
      "execution_count": 19,
      "outputs": [
        {
          "output_type": "execute_result",
          "data": {
            "text/html": [
              "<div>\n",
              "<style scoped>\n",
              "    .dataframe tbody tr th:only-of-type {\n",
              "        vertical-align: middle;\n",
              "    }\n",
              "\n",
              "    .dataframe tbody tr th {\n",
              "        vertical-align: top;\n",
              "    }\n",
              "\n",
              "    .dataframe thead th {\n",
              "        text-align: right;\n",
              "    }\n",
              "</style>\n",
              "<table border=\"1\" class=\"dataframe\">\n",
              "  <thead>\n",
              "    <tr style=\"text-align: right;\">\n",
              "      <th></th>\n",
              "      <th>device_id</th>\n",
              "      <th>lat</th>\n",
              "      <th>lon</th>\n",
              "      <th>utc_timestamp</th>\n",
              "      <th>addidas</th>\n",
              "      <th>apple</th>\n",
              "      <th>bmw</th>\n",
              "      <th>female</th>\n",
              "      <th>male</th>\n",
              "      <th>employed</th>\n",
              "      <th>h_&amp;_m</th>\n",
              "      <th>honda</th>\n",
              "      <th>job_seeking</th>\n",
              "      <th>low_income</th>\n",
              "      <th>mercedes-benz</th>\n",
              "      <th>middle_income</th>\n",
              "      <th>retired</th>\n",
              "      <th>student</th>\n",
              "      <th>tommy_helfinger</th>\n",
              "    </tr>\n",
              "  </thead>\n",
              "  <tbody>\n",
              "    <tr>\n",
              "      <th>0</th>\n",
              "      <td>1</td>\n",
              "      <td>52.67649</td>\n",
              "      <td>13.31543</td>\n",
              "      <td>1609459727000</td>\n",
              "      <td>97745.0</td>\n",
              "      <td>141158.0</td>\n",
              "      <td>78690.0</td>\n",
              "      <td>85002.0</td>\n",
              "      <td>2.0</td>\n",
              "      <td>72506.0</td>\n",
              "      <td>31465.0</td>\n",
              "      <td>169431.0</td>\n",
              "      <td>161402.0</td>\n",
              "      <td>10.0</td>\n",
              "      <td>133934.0</td>\n",
              "      <td>3</td>\n",
              "      <td>168131.0</td>\n",
              "      <td>96358.0</td>\n",
              "      <td>54252.0</td>\n",
              "    </tr>\n",
              "    <tr>\n",
              "      <th>1</th>\n",
              "      <td>1</td>\n",
              "      <td>52.67649</td>\n",
              "      <td>13.31542</td>\n",
              "      <td>1609460036000</td>\n",
              "      <td>97745.0</td>\n",
              "      <td>141158.0</td>\n",
              "      <td>78690.0</td>\n",
              "      <td>85002.0</td>\n",
              "      <td>2.0</td>\n",
              "      <td>72506.0</td>\n",
              "      <td>31465.0</td>\n",
              "      <td>169431.0</td>\n",
              "      <td>161402.0</td>\n",
              "      <td>10.0</td>\n",
              "      <td>133934.0</td>\n",
              "      <td>3</td>\n",
              "      <td>168131.0</td>\n",
              "      <td>96358.0</td>\n",
              "      <td>54252.0</td>\n",
              "    </tr>\n",
              "    <tr>\n",
              "      <th>2</th>\n",
              "      <td>2</td>\n",
              "      <td>52.57837</td>\n",
              "      <td>13.58217</td>\n",
              "      <td>1609459241000</td>\n",
              "      <td>45843.0</td>\n",
              "      <td>164532.0</td>\n",
              "      <td>114955.0</td>\n",
              "      <td>85003.0</td>\n",
              "      <td>3.0</td>\n",
              "      <td>76600.0</td>\n",
              "      <td>170616.0</td>\n",
              "      <td>92534.0</td>\n",
              "      <td>17976.0</td>\n",
              "      <td>15.0</td>\n",
              "      <td>47673.0</td>\n",
              "      <td>6</td>\n",
              "      <td>156201.0</td>\n",
              "      <td>112405.0</td>\n",
              "      <td>64445.0</td>\n",
              "    </tr>\n",
              "    <tr>\n",
              "      <th>3</th>\n",
              "      <td>3</td>\n",
              "      <td>52.58373</td>\n",
              "      <td>13.33309</td>\n",
              "      <td>1609459502000</td>\n",
              "      <td>164807.0</td>\n",
              "      <td>88589.0</td>\n",
              "      <td>129177.0</td>\n",
              "      <td>85004.0</td>\n",
              "      <td>4.0</td>\n",
              "      <td>116724.0</td>\n",
              "      <td>34023.0</td>\n",
              "      <td>166431.0</td>\n",
              "      <td>6752.0</td>\n",
              "      <td>20.0</td>\n",
              "      <td>120911.0</td>\n",
              "      <td>7</td>\n",
              "      <td>44238.0</td>\n",
              "      <td>74973.0</td>\n",
              "      <td>49837.0</td>\n",
              "    </tr>\n",
              "    <tr>\n",
              "      <th>4</th>\n",
              "      <td>1</td>\n",
              "      <td>52.67650</td>\n",
              "      <td>13.31548</td>\n",
              "      <td>1609460387000</td>\n",
              "      <td>97745.0</td>\n",
              "      <td>141158.0</td>\n",
              "      <td>78690.0</td>\n",
              "      <td>85002.0</td>\n",
              "      <td>2.0</td>\n",
              "      <td>72506.0</td>\n",
              "      <td>31465.0</td>\n",
              "      <td>169431.0</td>\n",
              "      <td>161402.0</td>\n",
              "      <td>10.0</td>\n",
              "      <td>133934.0</td>\n",
              "      <td>3</td>\n",
              "      <td>168131.0</td>\n",
              "      <td>96358.0</td>\n",
              "      <td>54252.0</td>\n",
              "    </tr>\n",
              "  </tbody>\n",
              "</table>\n",
              "</div>"
            ],
            "text/plain": [
              "   device_id       lat       lon  ...   retired   student  tommy_helfinger\n",
              "0  1          52.67649  13.31543  ...  168131.0  96358.0   54252.0        \n",
              "1  1          52.67649  13.31542  ...  168131.0  96358.0   54252.0        \n",
              "2  2          52.57837  13.58217  ...  156201.0  112405.0  64445.0        \n",
              "3  3          52.58373  13.33309  ...  44238.0   74973.0   49837.0        \n",
              "4  1          52.67650  13.31548  ...  168131.0  96358.0   54252.0        \n",
              "\n",
              "[5 rows x 19 columns]"
            ]
          },
          "metadata": {
            "tags": []
          },
          "execution_count": 19
        }
      ]
    },
    {
      "cell_type": "code",
      "metadata": {
        "colab": {
          "base_uri": "https://localhost:8080/",
          "height": 148
        },
        "id": "i9wm-8cmM6Zu",
        "outputId": "1de26794-6086-401f-9b75-a67ed26baf43"
      },
      "source": [
        "stores[\"lat\"]= round(stores.lat,2)\n",
        "stores[\"lon\"]= round(stores.lon,2)\n",
        "stores.head(1)"
      ],
      "execution_count": 23,
      "outputs": [
        {
          "output_type": "execute_result",
          "data": {
            "text/html": [
              "<div>\n",
              "<style scoped>\n",
              "    .dataframe tbody tr th:only-of-type {\n",
              "        vertical-align: middle;\n",
              "    }\n",
              "\n",
              "    .dataframe tbody tr th {\n",
              "        vertical-align: top;\n",
              "    }\n",
              "\n",
              "    .dataframe thead th {\n",
              "        text-align: right;\n",
              "    }\n",
              "</style>\n",
              "<table border=\"1\" class=\"dataframe\">\n",
              "  <thead>\n",
              "    <tr style=\"text-align: right;\">\n",
              "      <th></th>\n",
              "      <th>store_id</th>\n",
              "      <th>store_name</th>\n",
              "      <th>wkt</th>\n",
              "      <th>lon</th>\n",
              "      <th>lat</th>\n",
              "    </tr>\n",
              "  </thead>\n",
              "  <tbody>\n",
              "    <tr>\n",
              "      <th>0</th>\n",
              "      <td>place_1</td>\n",
              "      <td>McDonald's</td>\n",
              "      <td>POLYGON ((13.4611920000000005 52.4709870000000009, 13.4610299999999992 52.4706600000000023, 13.4611959999999993 52.4706290000000024, 13.4612090000000002 52.4706550000000007, 13.4613589999999999 52.4709560000000010, 13.4611920000000005 52.4709870000000009))</td>\n",
              "      <td>13.46</td>\n",
              "      <td>52.47</td>\n",
              "    </tr>\n",
              "  </tbody>\n",
              "</table>\n",
              "</div>"
            ],
            "text/plain": [
              "  store_id  store_name  ...    lon    lat\n",
              "0  place_1  McDonald's  ...  13.46  52.47\n",
              "\n",
              "[1 rows x 5 columns]"
            ]
          },
          "metadata": {
            "tags": []
          },
          "execution_count": 23
        }
      ]
    },
    {
      "cell_type": "code",
      "metadata": {
        "id": "Pb5xUd-3M0RT"
      },
      "source": [
        "stores['lat'] = stores.lat.astype(float)\n",
        "new_data['lat'] = new_data.lat.astype(float)\n",
        "stores['lon'] = stores.lon.astype(float)\n",
        "new_data['lon'] = new_data.lon.astype(float)"
      ],
      "execution_count": 24,
      "outputs": []
    },
    {
      "cell_type": "code",
      "metadata": {
        "id": "17QTgWooPF2K"
      },
      "source": [
        "new_data[\"lat\"]= round(new_data.lat,2)\n",
        "new_data[\"lon\"]= round(new_data.lon,2)\n"
      ],
      "execution_count": 25,
      "outputs": []
    },
    {
      "cell_type": "code",
      "metadata": {
        "colab": {
          "base_uri": "https://localhost:8080/",
          "height": 216
        },
        "id": "HfguEP4QCreN",
        "outputId": "30b53359-6868-445c-a168-49dc80640fc8"
      },
      "source": [
        "#convert to the real time from milisecond.\n",
        "new_data[\"time\"] = pd.to_datetime(new_data.utc_timestamp, unit='ms')\n",
        "new_data.head(2)"
      ],
      "execution_count": 26,
      "outputs": [
        {
          "output_type": "execute_result",
          "data": {
            "text/html": [
              "<div>\n",
              "<style scoped>\n",
              "    .dataframe tbody tr th:only-of-type {\n",
              "        vertical-align: middle;\n",
              "    }\n",
              "\n",
              "    .dataframe tbody tr th {\n",
              "        vertical-align: top;\n",
              "    }\n",
              "\n",
              "    .dataframe thead th {\n",
              "        text-align: right;\n",
              "    }\n",
              "</style>\n",
              "<table border=\"1\" class=\"dataframe\">\n",
              "  <thead>\n",
              "    <tr style=\"text-align: right;\">\n",
              "      <th></th>\n",
              "      <th>device_id</th>\n",
              "      <th>lat</th>\n",
              "      <th>lon</th>\n",
              "      <th>utc_timestamp</th>\n",
              "      <th>addidas</th>\n",
              "      <th>apple</th>\n",
              "      <th>bmw</th>\n",
              "      <th>female</th>\n",
              "      <th>male</th>\n",
              "      <th>employed</th>\n",
              "      <th>h_&amp;_m</th>\n",
              "      <th>honda</th>\n",
              "      <th>job_seeking</th>\n",
              "      <th>low_income</th>\n",
              "      <th>mercedes-benz</th>\n",
              "      <th>middle_income</th>\n",
              "      <th>retired</th>\n",
              "      <th>student</th>\n",
              "      <th>tommy_helfinger</th>\n",
              "      <th>time</th>\n",
              "    </tr>\n",
              "  </thead>\n",
              "  <tbody>\n",
              "    <tr>\n",
              "      <th>0</th>\n",
              "      <td>1</td>\n",
              "      <td>52.68</td>\n",
              "      <td>13.32</td>\n",
              "      <td>1609459727000</td>\n",
              "      <td>97745.0</td>\n",
              "      <td>141158.0</td>\n",
              "      <td>78690.0</td>\n",
              "      <td>85002.0</td>\n",
              "      <td>2.0</td>\n",
              "      <td>72506.0</td>\n",
              "      <td>31465.0</td>\n",
              "      <td>169431.0</td>\n",
              "      <td>161402.0</td>\n",
              "      <td>10.0</td>\n",
              "      <td>133934.0</td>\n",
              "      <td>3</td>\n",
              "      <td>168131.0</td>\n",
              "      <td>96358.0</td>\n",
              "      <td>54252.0</td>\n",
              "      <td>2021-01-01 00:08:47</td>\n",
              "    </tr>\n",
              "    <tr>\n",
              "      <th>1</th>\n",
              "      <td>1</td>\n",
              "      <td>52.68</td>\n",
              "      <td>13.32</td>\n",
              "      <td>1609460036000</td>\n",
              "      <td>97745.0</td>\n",
              "      <td>141158.0</td>\n",
              "      <td>78690.0</td>\n",
              "      <td>85002.0</td>\n",
              "      <td>2.0</td>\n",
              "      <td>72506.0</td>\n",
              "      <td>31465.0</td>\n",
              "      <td>169431.0</td>\n",
              "      <td>161402.0</td>\n",
              "      <td>10.0</td>\n",
              "      <td>133934.0</td>\n",
              "      <td>3</td>\n",
              "      <td>168131.0</td>\n",
              "      <td>96358.0</td>\n",
              "      <td>54252.0</td>\n",
              "      <td>2021-01-01 00:13:56</td>\n",
              "    </tr>\n",
              "  </tbody>\n",
              "</table>\n",
              "</div>"
            ],
            "text/plain": [
              "   device_id    lat    lon  ...  student  tommy_helfinger                time\n",
              "0  1          52.68  13.32  ...  96358.0  54252.0         2021-01-01 00:08:47\n",
              "1  1          52.68  13.32  ...  96358.0  54252.0         2021-01-01 00:13:56\n",
              "\n",
              "[2 rows x 20 columns]"
            ]
          },
          "metadata": {
            "tags": []
          },
          "execution_count": 26
        }
      ]
    },
    {
      "cell_type": "code",
      "metadata": {
        "id": "LAb5iMqc8P3n"
      },
      "source": [
        "df3 = new_data.merge(stores, how = 'inner', on = ['lat', 'lon'])\n"
      ],
      "execution_count": 27,
      "outputs": []
    },
    {
      "cell_type": "code",
      "metadata": {
        "colab": {
          "base_uri": "https://localhost:8080/",
          "height": 411
        },
        "id": "9c5ffNLOCriH",
        "outputId": "778c00db-09bf-435b-b520-25a170775c81"
      },
      "source": [
        "#new_data.to_csv('new_data.csv') \n",
        "df3.drop(['wkt','utc_timestamp'], inplace=True, axis=1)\n",
        "df3.head(5)\n"
      ],
      "execution_count": 28,
      "outputs": [
        {
          "output_type": "execute_result",
          "data": {
            "text/html": [
              "<div>\n",
              "<style scoped>\n",
              "    .dataframe tbody tr th:only-of-type {\n",
              "        vertical-align: middle;\n",
              "    }\n",
              "\n",
              "    .dataframe tbody tr th {\n",
              "        vertical-align: top;\n",
              "    }\n",
              "\n",
              "    .dataframe thead th {\n",
              "        text-align: right;\n",
              "    }\n",
              "</style>\n",
              "<table border=\"1\" class=\"dataframe\">\n",
              "  <thead>\n",
              "    <tr style=\"text-align: right;\">\n",
              "      <th></th>\n",
              "      <th>device_id</th>\n",
              "      <th>lat</th>\n",
              "      <th>lon</th>\n",
              "      <th>addidas</th>\n",
              "      <th>apple</th>\n",
              "      <th>bmw</th>\n",
              "      <th>female</th>\n",
              "      <th>male</th>\n",
              "      <th>employed</th>\n",
              "      <th>h_&amp;_m</th>\n",
              "      <th>honda</th>\n",
              "      <th>job_seeking</th>\n",
              "      <th>low_income</th>\n",
              "      <th>mercedes-benz</th>\n",
              "      <th>middle_income</th>\n",
              "      <th>retired</th>\n",
              "      <th>student</th>\n",
              "      <th>tommy_helfinger</th>\n",
              "      <th>time</th>\n",
              "      <th>store_id</th>\n",
              "      <th>store_name</th>\n",
              "    </tr>\n",
              "  </thead>\n",
              "  <tbody>\n",
              "    <tr>\n",
              "      <th>0</th>\n",
              "      <td>4</td>\n",
              "      <td>52.59</td>\n",
              "      <td>13.29</td>\n",
              "      <td>106524.0</td>\n",
              "      <td>140769.0</td>\n",
              "      <td>103507.0</td>\n",
              "      <td>85005.0</td>\n",
              "      <td>5.0</td>\n",
              "      <td>24898.0</td>\n",
              "      <td>83629.0</td>\n",
              "      <td>38117.0</td>\n",
              "      <td>137026.0</td>\n",
              "      <td>25.0</td>\n",
              "      <td>11361.0</td>\n",
              "      <td>8</td>\n",
              "      <td>79099.0</td>\n",
              "      <td>75080.0</td>\n",
              "      <td>21672.0</td>\n",
              "      <td>2021-01-01 00:31:01</td>\n",
              "      <td>place_66</td>\n",
              "      <td>Aldi</td>\n",
              "    </tr>\n",
              "    <tr>\n",
              "      <th>1</th>\n",
              "      <td>4</td>\n",
              "      <td>52.59</td>\n",
              "      <td>13.29</td>\n",
              "      <td>106524.0</td>\n",
              "      <td>140769.0</td>\n",
              "      <td>103507.0</td>\n",
              "      <td>85005.0</td>\n",
              "      <td>5.0</td>\n",
              "      <td>24898.0</td>\n",
              "      <td>83629.0</td>\n",
              "      <td>38117.0</td>\n",
              "      <td>137026.0</td>\n",
              "      <td>25.0</td>\n",
              "      <td>11361.0</td>\n",
              "      <td>8</td>\n",
              "      <td>79099.0</td>\n",
              "      <td>75080.0</td>\n",
              "      <td>21672.0</td>\n",
              "      <td>2021-01-01 14:40:15</td>\n",
              "      <td>place_66</td>\n",
              "      <td>Aldi</td>\n",
              "    </tr>\n",
              "    <tr>\n",
              "      <th>2</th>\n",
              "      <td>97</td>\n",
              "      <td>52.59</td>\n",
              "      <td>13.29</td>\n",
              "      <td>1490.0</td>\n",
              "      <td>51998.0</td>\n",
              "      <td>82144.0</td>\n",
              "      <td>85098.0</td>\n",
              "      <td>98.0</td>\n",
              "      <td>63975.0</td>\n",
              "      <td>94253.0</td>\n",
              "      <td>6737.0</td>\n",
              "      <td>15229.0</td>\n",
              "      <td>490.0</td>\n",
              "      <td>5321.0</td>\n",
              "      <td>163</td>\n",
              "      <td>45551.0</td>\n",
              "      <td>16635.0</td>\n",
              "      <td>91068.0</td>\n",
              "      <td>2021-01-01 20:10:55</td>\n",
              "      <td>place_66</td>\n",
              "      <td>Aldi</td>\n",
              "    </tr>\n",
              "    <tr>\n",
              "      <th>3</th>\n",
              "      <td>97</td>\n",
              "      <td>52.59</td>\n",
              "      <td>13.29</td>\n",
              "      <td>1490.0</td>\n",
              "      <td>51998.0</td>\n",
              "      <td>82144.0</td>\n",
              "      <td>85098.0</td>\n",
              "      <td>98.0</td>\n",
              "      <td>63975.0</td>\n",
              "      <td>94253.0</td>\n",
              "      <td>6737.0</td>\n",
              "      <td>15229.0</td>\n",
              "      <td>490.0</td>\n",
              "      <td>5321.0</td>\n",
              "      <td>163</td>\n",
              "      <td>45551.0</td>\n",
              "      <td>16635.0</td>\n",
              "      <td>91068.0</td>\n",
              "      <td>2021-01-01 18:37:39</td>\n",
              "      <td>place_66</td>\n",
              "      <td>Aldi</td>\n",
              "    </tr>\n",
              "    <tr>\n",
              "      <th>4</th>\n",
              "      <td>97</td>\n",
              "      <td>52.59</td>\n",
              "      <td>13.29</td>\n",
              "      <td>1490.0</td>\n",
              "      <td>51998.0</td>\n",
              "      <td>82144.0</td>\n",
              "      <td>85098.0</td>\n",
              "      <td>98.0</td>\n",
              "      <td>63975.0</td>\n",
              "      <td>94253.0</td>\n",
              "      <td>6737.0</td>\n",
              "      <td>15229.0</td>\n",
              "      <td>490.0</td>\n",
              "      <td>5321.0</td>\n",
              "      <td>163</td>\n",
              "      <td>45551.0</td>\n",
              "      <td>16635.0</td>\n",
              "      <td>91068.0</td>\n",
              "      <td>2021-01-01 19:10:52</td>\n",
              "      <td>place_66</td>\n",
              "      <td>Aldi</td>\n",
              "    </tr>\n",
              "  </tbody>\n",
              "</table>\n",
              "</div>"
            ],
            "text/plain": [
              "   device_id    lat    lon  ...                time  store_id  store_name\n",
              "0  4          52.59  13.29  ... 2021-01-01 00:31:01  place_66  Aldi      \n",
              "1  4          52.59  13.29  ... 2021-01-01 14:40:15  place_66  Aldi      \n",
              "2  97         52.59  13.29  ... 2021-01-01 20:10:55  place_66  Aldi      \n",
              "3  97         52.59  13.29  ... 2021-01-01 18:37:39  place_66  Aldi      \n",
              "4  97         52.59  13.29  ... 2021-01-01 19:10:52  place_66  Aldi      \n",
              "\n",
              "[5 rows x 21 columns]"
            ]
          },
          "metadata": {
            "tags": []
          },
          "execution_count": 28
        }
      ]
    },
    {
      "cell_type": "code",
      "metadata": {
        "colab": {
          "base_uri": "https://localhost:8080/",
          "height": 182
        },
        "id": "r8IhZo9rHhDE",
        "outputId": "7378229b-899f-4b37-acfa-c01c6fd3b72b"
      },
      "source": [
        "from datetime import datetime,date\n",
        "df3['time'] = pd.to_datetime(df3['time']).dt.date\n",
        "df3.head(2)"
      ],
      "execution_count": 57,
      "outputs": [
        {
          "output_type": "execute_result",
          "data": {
            "text/html": [
              "<div>\n",
              "<style scoped>\n",
              "    .dataframe tbody tr th:only-of-type {\n",
              "        vertical-align: middle;\n",
              "    }\n",
              "\n",
              "    .dataframe tbody tr th {\n",
              "        vertical-align: top;\n",
              "    }\n",
              "\n",
              "    .dataframe thead th {\n",
              "        text-align: right;\n",
              "    }\n",
              "</style>\n",
              "<table border=\"1\" class=\"dataframe\">\n",
              "  <thead>\n",
              "    <tr style=\"text-align: right;\">\n",
              "      <th></th>\n",
              "      <th>device_id</th>\n",
              "      <th>lat</th>\n",
              "      <th>lon</th>\n",
              "      <th>addidas</th>\n",
              "      <th>apple</th>\n",
              "      <th>bmw</th>\n",
              "      <th>female</th>\n",
              "      <th>male</th>\n",
              "      <th>employed</th>\n",
              "      <th>h_&amp;_m</th>\n",
              "      <th>honda</th>\n",
              "      <th>job_seeking</th>\n",
              "      <th>low_income</th>\n",
              "      <th>mercedes-benz</th>\n",
              "      <th>middle_income</th>\n",
              "      <th>retired</th>\n",
              "      <th>student</th>\n",
              "      <th>tommy_helfinger</th>\n",
              "      <th>time</th>\n",
              "      <th>store_id</th>\n",
              "      <th>store_name</th>\n",
              "    </tr>\n",
              "  </thead>\n",
              "  <tbody>\n",
              "    <tr>\n",
              "      <th>0</th>\n",
              "      <td>4</td>\n",
              "      <td>52.59</td>\n",
              "      <td>13.29</td>\n",
              "      <td>106524.0</td>\n",
              "      <td>140769.0</td>\n",
              "      <td>103507.0</td>\n",
              "      <td>85005.0</td>\n",
              "      <td>5.0</td>\n",
              "      <td>24898.0</td>\n",
              "      <td>83629.0</td>\n",
              "      <td>38117.0</td>\n",
              "      <td>137026.0</td>\n",
              "      <td>25.0</td>\n",
              "      <td>11361.0</td>\n",
              "      <td>8</td>\n",
              "      <td>79099.0</td>\n",
              "      <td>75080.0</td>\n",
              "      <td>21672.0</td>\n",
              "      <td>2021-01-01</td>\n",
              "      <td>place_66</td>\n",
              "      <td>Aldi</td>\n",
              "    </tr>\n",
              "    <tr>\n",
              "      <th>1</th>\n",
              "      <td>4</td>\n",
              "      <td>52.59</td>\n",
              "      <td>13.29</td>\n",
              "      <td>106524.0</td>\n",
              "      <td>140769.0</td>\n",
              "      <td>103507.0</td>\n",
              "      <td>85005.0</td>\n",
              "      <td>5.0</td>\n",
              "      <td>24898.0</td>\n",
              "      <td>83629.0</td>\n",
              "      <td>38117.0</td>\n",
              "      <td>137026.0</td>\n",
              "      <td>25.0</td>\n",
              "      <td>11361.0</td>\n",
              "      <td>8</td>\n",
              "      <td>79099.0</td>\n",
              "      <td>75080.0</td>\n",
              "      <td>21672.0</td>\n",
              "      <td>2021-01-01</td>\n",
              "      <td>place_66</td>\n",
              "      <td>Aldi</td>\n",
              "    </tr>\n",
              "  </tbody>\n",
              "</table>\n",
              "</div>"
            ],
            "text/plain": [
              "   device_id    lat    lon  ...        time  store_id  store_name\n",
              "0  4          52.59  13.29  ...  2021-01-01  place_66  Aldi      \n",
              "1  4          52.59  13.29  ...  2021-01-01  place_66  Aldi      \n",
              "\n",
              "[2 rows x 21 columns]"
            ]
          },
          "metadata": {
            "tags": []
          },
          "execution_count": 57
        }
      ]
    },
    {
      "cell_type": "code",
      "metadata": {
        "id": "H4QRuZcvhHmn"
      },
      "source": [
        "#b. Group the resolved visits by date (yyyy-mm-dd), store_name, and store_id."
      ],
      "execution_count": 35,
      "outputs": []
    },
    {
      "cell_type": "code",
      "metadata": {
        "id": "JvY-IhaUeGyH"
      },
      "source": [
        "grouped=df3.groupby(['time','store_name','store_id'])\n",
        "\n",
        "for key,item in grouped:\n",
        "  a_group = grouped.get_group(key)\n",
        "  #print(a_group, \"\\n\")\n",
        "\n",
        "#if we activate print we can see the groupby  date (yyyy-mm-dd), store_name, and store_id."
      ],
      "execution_count": 61,
      "outputs": []
    },
    {
      "cell_type": "code",
      "metadata": {
        "id": "a6ynWVkweG3f"
      },
      "source": [
        "# c. For each store_id/store_name/date provide the following metric.\n",
        "#i. A total number of GPS signals per place_id/date. \n",
        "#ii. A total number of unique visitors (i.e. device ids).\n",
        "#iii. A total number of unique visitors belonging to each affinity group."
      ],
      "execution_count": null,
      "outputs": []
    },
    {
      "cell_type": "code",
      "metadata": {
        "colab": {
          "base_uri": "https://localhost:8080/"
        },
        "id": "gOei455UeHC_",
        "outputId": "2d25ad27-b97a-45e8-ec49-7243cf0a6311"
      },
      "source": [
        "#A total number of GPS signals per place_id/date. \n",
        "test = df3.groupby(['time','store_name','store_id']).size()\n",
        "test"
      ],
      "execution_count": 31,
      "outputs": [
        {
          "output_type": "execute_result",
          "data": {
            "text/plain": [
              "time        store_name  store_id \n",
              "2021-01-01  Aldi        place_101    2882\n",
              "                        place_102    1616\n",
              "                        place_103    2827\n",
              "                        place_105    2108\n",
              "                        place_106    3272\n",
              "                                     ... \n",
              "2021-01-03  Rewe        place_211    1242\n",
              "                        place_212    573 \n",
              "            Sparkasse   place_246    404 \n",
              "            Subway      place_52     958 \n",
              "                        place_53     1501\n",
              "Length: 628, dtype: int64"
            ]
          },
          "metadata": {
            "tags": []
          },
          "execution_count": 31
        }
      ]
    },
    {
      "cell_type": "code",
      "metadata": {
        "colab": {
          "base_uri": "https://localhost:8080/"
        },
        "id": "KBacQyG9eHGz",
        "outputId": "74338565-bf02-4756-8a68-3b28f646284a"
      },
      "source": [
        "#A total number of unique visitors (i.e. device ids).\n",
        "df3['device_id'].nunique()"
      ],
      "execution_count": 32,
      "outputs": [
        {
          "output_type": "execute_result",
          "data": {
            "text/plain": [
              "22005"
            ]
          },
          "metadata": {
            "tags": []
          },
          "execution_count": 32
        }
      ]
    },
    {
      "cell_type": "code",
      "metadata": {
        "colab": {
          "base_uri": "https://localhost:8080/"
        },
        "id": "rAN3Nr0Twc4_",
        "outputId": "8eb05b04-3952-440d-8360-bbdb41203db2"
      },
      "source": [
        "#A total number of unique visitors belonging to each affinity group.\n",
        "\n",
        "col_uni_val={}\n",
        "for i in df3.columns:\n",
        "    col_uni_val[i] = len(df3[i].unique())\n",
        "#Import pprint to display dic nicely:\n",
        "import pprint\n",
        "pprint.pprint(col_uni_val)"
      ],
      "execution_count": 33,
      "outputs": [
        {
          "output_type": "stream",
          "text": [
            "{'addidas': 2579,\n",
            " 'apple': 4362,\n",
            " 'bmw': 3682,\n",
            " 'device_id': 22005,\n",
            " 'employed': 3256,\n",
            " 'female': 22005,\n",
            " 'h_&_m': 2743,\n",
            " 'honda': 5338,\n",
            " 'job_seeking': 3754,\n",
            " 'lat': 32,\n",
            " 'lon': 47,\n",
            " 'low_income': 12525,\n",
            " 'male': 22005,\n",
            " 'mercedes-benz': 3917,\n",
            " 'middle_income': 22005,\n",
            " 'retired': 2204,\n",
            " 'store_id': 210,\n",
            " 'store_name': 10,\n",
            " 'student': 4775,\n",
            " 'time': 3,\n",
            " 'tommy_helfinger': 2326}\n"
          ],
          "name": "stdout"
        }
      ]
    },
    {
      "cell_type": "code",
      "metadata": {
        "id": "HY6fVgicKsgI"
      },
      "source": [
        ")#a. Using a tool of your choice, visualize the trend of unique visits for all places.#"
      ],
      "execution_count": null,
      "outputs": []
    },
    {
      "cell_type": "code",
      "metadata": {
        "id": "-dUPBLG1KvNt",
        "colab": {
          "base_uri": "https://localhost:8080/",
          "height": 526
        },
        "outputId": "c5c650cc-d6e5-4285-ad16-31c624eb2c7a"
      },
      "source": [
        "import numpy as np\n",
        "import pandas as pd\n",
        "from pandas import Series, DataFrame\n",
        "import matplotlib.pyplot as plt\n",
        "plt.figure(figsize=(10,6))\n",
        "\n",
        "data = [2579,4362, 3682, 2743, 5338,3917,2326 ]\n",
        "labels = ['addidas', 'apple', 'bmw', 'h_&_m', 'honda','mercedes-benz','tommy_helfinger']\n",
        "plt.xticks(range(len(data)), labels)\n",
        "plt.xticks(size = 15)\n",
        "plt.yticks(size = 13)\n",
        "plt.xticks(rotation=60)\n",
        "plt.xlabel('Brand',size=15)\n",
        "plt.ylabel('Number of visit',size=15)\n",
        "plt.title('The trend of unique visits for all places',size=20)\n",
        "plt.bar(range(len(data)), data) \n",
        "plt.show()"
      ],
      "execution_count": 42,
      "outputs": [
        {
          "output_type": "display_data",
          "data": {
            "image/png": "[encoded data removed]",
            "text/plain": [
              "<Figure size 720x432 with 1 Axes>"
            ]
          },
          "metadata": {
            "tags": []
          }
        }
      ]
    },
    {
      "cell_type": "code",
      "metadata": {
        "id": "cbpCFkGF1hqu"
      },
      "source": [
        ""
      ],
      "execution_count": null,
      "outputs": []
    },
    {
      "cell_type": "code",
      "metadata": {
        "colab": {
          "base_uri": "https://localhost:8080/",
          "height": 407
        },
        "id": "ekqaeLhvycu1",
        "outputId": "cf7d2593-d61e-491c-83e0-5c0a83d9fb1b"
      },
      "source": [
        "#another way of ploting !\n",
        "\n",
        "# Import matplotlib\n",
        "import matplotlib.pyplot as plt\n",
        "# Import seaborn\n",
        "import seaborn as sns\n",
        "data = [2579,4362, 3682, 2743, 5338,3917,2326 ]\n",
        "labels = ['addidas', 'apple', 'bmw', 'h_&_m', 'honda','mercedes-benz','tommy_helfinger']\n",
        "# Set dark grid\n",
        "sns.set()\n",
        "\n",
        "# Convert index of countries to series for plotting\n",
        "y_vals = labels\n",
        "\n",
        "# Select 'Confirmed' column as y-values\n",
        "x_vals = data\n",
        "plt.xlabel('Brand',size=20)\n",
        "plt.ylabel('Number of visit',size=20)\n",
        "# Set size of figure\n",
        "plt.figure(figsize=(10,6))\n",
        "\n",
        "# Create horizontal bar plot\n",
        "sns.barplot(x=x_vals, y=y_vals, palette='Blues')\n",
        "plt.xticks(size = 20)\n",
        "plt.yticks(size = 20)\n",
        "\n",
        "# Title plot\n",
        "plt.title('The trend of unique visits for all places', size=20)\n",
        "\n",
        "# Save figure\n",
        "plt.savefig('The trend of unique visits for all places', dpi=300)\n",
        "\n",
        "# Show plot\n",
        "plt.show()"
      ],
      "execution_count": 36,
      "outputs": [
        {
          "output_type": "display_data",
          "data": {
            "image/png": "[encoded data removed]",
            "text/plain": [
              "<Figure size 720x432 with 1 Axes>"
            ]
          },
          "metadata": {
            "tags": []
          }
        }
      ]
    },
    {
      "cell_type": "code",
      "metadata": {
        "colab": {
          "base_uri": "https://localhost:8080/",
          "height": 837
        },
        "id": "mSShIwbe1iab",
        "outputId": "55c643be-65a3-4f51-e160-b9bbb28bb6c7"
      },
      "source": [
        "import matplotlib.pyplot as plt\n",
        "\n",
        "#installation\n",
        "!pip install folium\n",
        "# Create a world map to show distributions of users \n",
        "import folium\n",
        "from folium.plugins import MarkerCluster\n",
        "#empty map\n",
        "world_map= folium.Map(tiles=\"cartodbpositron\")\n",
        "marker_cluster = MarkerCluster().add_to(world_map)\n",
        "#for each coordinate, create circlemarker of user percent\n",
        "for i in range(len(stores)):\n",
        "        lat = stores.iloc[i]['lat']\n",
        "        long = stores.iloc[i]['lon']\n",
        "        radius=5\n",
        "        popup_text = \"\"\"Users : {}<br>\"\"\"\n",
        "        popup_text = popup_text.format(\n",
        "                                   stores.iloc[i]['device_id'])\n",
        "        folium.CircleMarker(location = [lat, long], radius=radius, popup= popup_text, fill =True).add_to(marker_cluster)\n",
        "#show the map\n",
        "world_map"
      ],
      "execution_count": 47,
      "outputs": [
        {
          "output_type": "stream",
          "text": [
            "Requirement already satisfied: folium in /usr/local/lib/python3.7/dist-packages (0.8.3)\n",
            "Requirement already satisfied: numpy in /usr/local/lib/python3.7/dist-packages (from folium) (1.19.5)\n",
            "Requirement already satisfied: branca>=0.3.0 in /usr/local/lib/python3.7/dist-packages (from folium) (0.4.2)\n",
            "Requirement already satisfied: six in /usr/local/lib/python3.7/dist-packages (from folium) (1.15.0)\n",
            "Requirement already satisfied: jinja2 in /usr/local/lib/python3.7/dist-packages (from folium) (2.11.3)\n",
            "Requirement already satisfied: requests in /usr/local/lib/python3.7/dist-packages (from folium) (2.23.0)\n",
            "Requirement already satisfied: MarkupSafe>=0.23 in /usr/local/lib/python3.7/dist-packages (from jinja2->folium) (1.1.1)\n",
            "Requirement already satisfied: certifi>=2017.4.17 in /usr/local/lib/python3.7/dist-packages (from requests->folium) (2020.12.5)\n",
            "Requirement already satisfied: idna<3,>=2.5 in /usr/local/lib/python3.7/dist-packages (from requests->folium) (2.10)\n",
            "Requirement already satisfied: urllib3!=1.25.0,!=1.25.1,<1.26,>=1.21.1 in /usr/local/lib/python3.7/dist-packages (from requests->folium) (1.24.3)\n",
            "Requirement already satisfied: chardet<4,>=3.0.2 in /usr/local/lib/python3.7/dist-packages (from requests->folium) (3.0.4)\n"
          ],
          "name": "stdout"
        },
        {
          "output_type": "error",
          "ename": "KeyError",
          "evalue": "ignored",
          "traceback": [
            "\u001b[0;31m---------------------------------------------------------------------------\u001b[0m",
            "\u001b[0;31mKeyError\u001b[0m                                  Traceback (most recent call last)",
            "\u001b[0;32m/usr/local/lib/python3.7/dist-packages/pandas/core/indexes/base.py\u001b[0m in \u001b[0;36mget_loc\u001b[0;34m(self, key, method, tolerance)\u001b[0m\n\u001b[1;32m   2897\u001b[0m             \u001b[0;32mtry\u001b[0m\u001b[0;34m:\u001b[0m\u001b[0;34m\u001b[0m\u001b[0;34m\u001b[0m\u001b[0m\n\u001b[0;32m-> 2898\u001b[0;31m                 \u001b[0;32mreturn\u001b[0m \u001b[0mself\u001b[0m\u001b[0;34m.\u001b[0m\u001b[0m_engine\u001b[0m\u001b[0;34m.\u001b[0m\u001b[0mget_loc\u001b[0m\u001b[0;34m(\u001b[0m\u001b[0mcasted_key\u001b[0m\u001b[0;34m)\u001b[0m\u001b[0;34m\u001b[0m\u001b[0;34m\u001b[0m\u001b[0m\n\u001b[0m\u001b[1;32m   2899\u001b[0m             \u001b[0;32mexcept\u001b[0m \u001b[0mKeyError\u001b[0m \u001b[0;32mas\u001b[0m \u001b[0merr\u001b[0m\u001b[0;34m:\u001b[0m\u001b[0;34m\u001b[0m\u001b[0;34m\u001b[0m\u001b[0m\n",
            "\u001b[0;32mpandas/_libs/index.pyx\u001b[0m in \u001b[0;36mpandas._libs.index.IndexEngine.get_loc\u001b[0;34m()\u001b[0m\n",
            "\u001b[0;32mpandas/_libs/index.pyx\u001b[0m in \u001b[0;36mpandas._libs.index.IndexEngine.get_loc\u001b[0;34m()\u001b[0m\n",
            "\u001b[0;32mpandas/_libs/hashtable_class_helper.pxi\u001b[0m in \u001b[0;36mpandas._libs.hashtable.PyObjectHashTable.get_item\u001b[0;34m()\u001b[0m\n",
            "\u001b[0;32mpandas/_libs/hashtable_class_helper.pxi\u001b[0m in \u001b[0;36mpandas._libs.hashtable.PyObjectHashTable.get_item\u001b[0;34m()\u001b[0m\n",
            "\u001b[0;31mKeyError\u001b[0m: 'device_id'",
            "\nThe above exception was the direct cause of the following exception:\n",
            "\u001b[0;31mKeyError\u001b[0m                                  Traceback (most recent call last)",
            "\u001b[0;32m<ipython-input-47-8e40e6467799>\u001b[0m in \u001b[0;36m<module>\u001b[0;34m()\u001b[0m\n\u001b[1;32m     16\u001b[0m         \u001b[0mpopup_text\u001b[0m \u001b[0;34m=\u001b[0m \u001b[0;34m\"\"\"Users : {}<br>\"\"\"\u001b[0m\u001b[0;34m\u001b[0m\u001b[0;34m\u001b[0m\u001b[0m\n\u001b[1;32m     17\u001b[0m         popup_text = popup_text.format(\n\u001b[0;32m---> 18\u001b[0;31m                                    stores.iloc[i]['device_id'])\n\u001b[0m\u001b[1;32m     19\u001b[0m         \u001b[0mfolium\u001b[0m\u001b[0;34m.\u001b[0m\u001b[0mCircleMarker\u001b[0m\u001b[0;34m(\u001b[0m\u001b[0mlocation\u001b[0m \u001b[0;34m=\u001b[0m \u001b[0;34m[\u001b[0m\u001b[0mlat\u001b[0m\u001b[0;34m,\u001b[0m \u001b[0mlong\u001b[0m\u001b[0;34m]\u001b[0m\u001b[0;34m,\u001b[0m \u001b[0mradius\u001b[0m\u001b[0;34m=\u001b[0m\u001b[0mradius\u001b[0m\u001b[0;34m,\u001b[0m \u001b[0mpopup\u001b[0m\u001b[0;34m=\u001b[0m \u001b[0mpopup_text\u001b[0m\u001b[0;34m,\u001b[0m \u001b[0mfill\u001b[0m \u001b[0;34m=\u001b[0m\u001b[0;32mTrue\u001b[0m\u001b[0;34m)\u001b[0m\u001b[0;34m.\u001b[0m\u001b[0madd_to\u001b[0m\u001b[0;34m(\u001b[0m\u001b[0mmarker_cluster\u001b[0m\u001b[0;34m)\u001b[0m\u001b[0;34m\u001b[0m\u001b[0;34m\u001b[0m\u001b[0m\n\u001b[1;32m     20\u001b[0m \u001b[0;31m#show the map\u001b[0m\u001b[0;34m\u001b[0m\u001b[0;34m\u001b[0m\u001b[0;34m\u001b[0m\u001b[0m\n",
            "\u001b[0;32m/usr/local/lib/python3.7/dist-packages/pandas/core/series.py\u001b[0m in \u001b[0;36m__getitem__\u001b[0;34m(self, key)\u001b[0m\n\u001b[1;32m    880\u001b[0m \u001b[0;34m\u001b[0m\u001b[0m\n\u001b[1;32m    881\u001b[0m         \u001b[0;32melif\u001b[0m \u001b[0mkey_is_scalar\u001b[0m\u001b[0;34m:\u001b[0m\u001b[0;34m\u001b[0m\u001b[0;34m\u001b[0m\u001b[0m\n\u001b[0;32m--> 882\u001b[0;31m             \u001b[0;32mreturn\u001b[0m \u001b[0mself\u001b[0m\u001b[0;34m.\u001b[0m\u001b[0m_get_value\u001b[0m\u001b[0;34m(\u001b[0m\u001b[0mkey\u001b[0m\u001b[0;34m)\u001b[0m\u001b[0;34m\u001b[0m\u001b[0;34m\u001b[0m\u001b[0m\n\u001b[0m\u001b[1;32m    883\u001b[0m \u001b[0;34m\u001b[0m\u001b[0m\n\u001b[1;32m    884\u001b[0m         \u001b[0;32mif\u001b[0m \u001b[0mis_hashable\u001b[0m\u001b[0;34m(\u001b[0m\u001b[0mkey\u001b[0m\u001b[0;34m)\u001b[0m\u001b[0;34m:\u001b[0m\u001b[0;34m\u001b[0m\u001b[0;34m\u001b[0m\u001b[0m\n",
            "\u001b[0;32m/usr/local/lib/python3.7/dist-packages/pandas/core/series.py\u001b[0m in \u001b[0;36m_get_value\u001b[0;34m(self, label, takeable)\u001b[0m\n\u001b[1;32m    988\u001b[0m \u001b[0;34m\u001b[0m\u001b[0m\n\u001b[1;32m    989\u001b[0m         \u001b[0;31m# Similar to Index.get_value, but we do not fall back to positional\u001b[0m\u001b[0;34m\u001b[0m\u001b[0;34m\u001b[0m\u001b[0;34m\u001b[0m\u001b[0m\n\u001b[0;32m--> 990\u001b[0;31m         \u001b[0mloc\u001b[0m \u001b[0;34m=\u001b[0m \u001b[0mself\u001b[0m\u001b[0;34m.\u001b[0m\u001b[0mindex\u001b[0m\u001b[0;34m.\u001b[0m\u001b[0mget_loc\u001b[0m\u001b[0;34m(\u001b[0m\u001b[0mlabel\u001b[0m\u001b[0;34m)\u001b[0m\u001b[0;34m\u001b[0m\u001b[0;34m\u001b[0m\u001b[0m\n\u001b[0m\u001b[1;32m    991\u001b[0m         \u001b[0;32mreturn\u001b[0m \u001b[0mself\u001b[0m\u001b[0;34m.\u001b[0m\u001b[0mindex\u001b[0m\u001b[0;34m.\u001b[0m\u001b[0m_get_values_for_loc\u001b[0m\u001b[0;34m(\u001b[0m\u001b[0mself\u001b[0m\u001b[0;34m,\u001b[0m \u001b[0mloc\u001b[0m\u001b[0;34m,\u001b[0m \u001b[0mlabel\u001b[0m\u001b[0;34m)\u001b[0m\u001b[0;34m\u001b[0m\u001b[0;34m\u001b[0m\u001b[0m\n\u001b[1;32m    992\u001b[0m \u001b[0;34m\u001b[0m\u001b[0m\n",
            "\u001b[0;32m/usr/local/lib/python3.7/dist-packages/pandas/core/indexes/base.py\u001b[0m in \u001b[0;36mget_loc\u001b[0;34m(self, key, method, tolerance)\u001b[0m\n\u001b[1;32m   2898\u001b[0m                 \u001b[0;32mreturn\u001b[0m \u001b[0mself\u001b[0m\u001b[0;34m.\u001b[0m\u001b[0m_engine\u001b[0m\u001b[0;34m.\u001b[0m\u001b[0mget_loc\u001b[0m\u001b[0;34m(\u001b[0m\u001b[0mcasted_key\u001b[0m\u001b[0;34m)\u001b[0m\u001b[0;34m\u001b[0m\u001b[0;34m\u001b[0m\u001b[0m\n\u001b[1;32m   2899\u001b[0m             \u001b[0;32mexcept\u001b[0m \u001b[0mKeyError\u001b[0m \u001b[0;32mas\u001b[0m \u001b[0merr\u001b[0m\u001b[0;34m:\u001b[0m\u001b[0;34m\u001b[0m\u001b[0;34m\u001b[0m\u001b[0m\n\u001b[0;32m-> 2900\u001b[0;31m                 \u001b[0;32mraise\u001b[0m \u001b[0mKeyError\u001b[0m\u001b[0;34m(\u001b[0m\u001b[0mkey\u001b[0m\u001b[0;34m)\u001b[0m \u001b[0;32mfrom\u001b[0m \u001b[0merr\u001b[0m\u001b[0;34m\u001b[0m\u001b[0;34m\u001b[0m\u001b[0m\n\u001b[0m\u001b[1;32m   2901\u001b[0m \u001b[0;34m\u001b[0m\u001b[0m\n\u001b[1;32m   2902\u001b[0m         \u001b[0;32mif\u001b[0m \u001b[0mtolerance\u001b[0m \u001b[0;32mis\u001b[0m \u001b[0;32mnot\u001b[0m \u001b[0;32mNone\u001b[0m\u001b[0;34m:\u001b[0m\u001b[0;34m\u001b[0m\u001b[0;34m\u001b[0m\u001b[0m\n",
            "\u001b[0;31mKeyError\u001b[0m: 'device_id'"
          ]
        }
      ]
    }
  ]
}